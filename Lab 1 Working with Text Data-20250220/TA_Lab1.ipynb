{
 "cells": [
  {
   "cell_type": "code",
   "execution_count": 3,
   "id": "3a084233-8b0d-450d-8955-fb47fb16fdc1",
   "metadata": {},
   "outputs": [
    {
     "name": "stdout",
     "output_type": "stream",
     "text": [
      "Raw Text:\n",
      " Hello, this is a sample text file.\n",
      "This is the second line.\n"
     ]
    }
   ],
   "source": [
    "# Read the content of the text file \n",
    "with open('sample.txt', 'r', encoding='utf-8') as file: \n",
    "    text_data = file.read() \n",
    "print(\"Raw Text:\\n\", text_data) "
   ]
  },
  {
   "cell_type": "code",
   "execution_count": 7,
   "id": "c6adc75a-ffe0-4e8e-b6b4-ab0b27aa2d60",
   "metadata": {},
   "outputs": [],
   "source": [
    "# Store in another file \n",
    "with open('stored_text.txt', 'w', encoding='utf-8') as file: \n",
    "    file.write(text_data)"
   ]
  },
  {
   "cell_type": "code",
   "execution_count": 10,
   "id": "7c5809b1-8a07-40a1-8ada-ee89121bad0b",
   "metadata": {},
   "outputs": [],
   "source": [
    "import pandas as pd "
   ]
  },
  {
   "cell_type": "code",
   "execution_count": 12,
   "id": "9545eb36-7ae3-414b-b5ab-735bb9fd161d",
   "metadata": {},
   "outputs": [
    {
     "name": "stdout",
     "output_type": "stream",
     "text": [
      "Reviews:\n",
      " 0    The product is amazing!\n",
      "1     Worst experience ever!\n",
      "Name: Review, dtype: object\n"
     ]
    }
   ],
   "source": [
    "# Read the CSV file \n",
    "df = pd.read_csv('reviews.csv') \n",
    "print(\"Reviews:\\n\", df['Review'].head())"
   ]
  },
  {
   "cell_type": "code",
   "execution_count": 16,
   "id": "67b4b041-5e9c-49c0-a25c-56dbfda9d2be",
   "metadata": {},
   "outputs": [],
   "source": [
    "# Save the reviews column to a text file \n",
    "df['Review'].to_csv('stored_reviews.txt', index=False, header=False) "
   ]
  },
  {
   "cell_type": "code",
   "execution_count": 18,
   "id": "730d8128-c89a-4ecc-8c1e-573e31f9d503",
   "metadata": {},
   "outputs": [],
   "source": [
    "import json "
   ]
  },
  {
   "cell_type": "code",
   "execution_count": 20,
   "id": "cb0a1029-09c3-48fd-8f3f-07cfbcd90284",
   "metadata": {},
   "outputs": [
    {
     "name": "stdout",
     "output_type": "stream",
     "text": [
      "Extracted City: New York\n"
     ]
    }
   ],
   "source": [
    "# Read the JSON file \n",
    "with open('social_data.json', 'r', encoding='utf-8') as file: \n",
    "    data = json.load(file) \n",
    "print(\"Extracted City:\", data['city'])"
   ]
  },
  {
   "cell_type": "code",
   "execution_count": 23,
   "id": "df63d2db-ed56-4250-b82b-f939c07e819e",
   "metadata": {},
   "outputs": [],
   "source": [
    "# Store the extracted city to a file \n",
    "with open('stored_city.txt', 'w', encoding='utf-8') as file: \n",
    "    file.write(data['city'])"
   ]
  },
  {
   "cell_type": "code",
   "execution_count": 26,
   "id": "16213305-638f-4d3c-ab98-0f90604a0aa7",
   "metadata": {},
   "outputs": [],
   "source": [
    "import xml.etree.ElementTree as ET "
   ]
  },
  {
   "cell_type": "code",
   "execution_count": 28,
   "id": "2fcd0285-ec0c-4e86-a39b-4c8834650308",
   "metadata": {},
   "outputs": [
    {
     "name": "stdout",
     "output_type": "stream",
     "text": [
      "Extracted Title: AI is transforming industries\n"
     ]
    }
   ],
   "source": [
    "# Parse the XML file \n",
    "tree = ET.parse('news.xml') \n",
    "root = tree.getroot() \n",
    " \n",
    "for article in root.findall('article'): \n",
    "    title = article.find('title').text \n",
    "    print(\"Extracted Title:\", title)"
   ]
  },
  {
   "cell_type": "code",
   "execution_count": 30,
   "id": "27ad818f-d0c6-417c-945c-e2b7bd071e8c",
   "metadata": {},
   "outputs": [],
   "source": [
    "# Store the extracted title to a file \n",
    "with open('stored_titles.txt', 'w', encoding='utf-8') as file: \n",
    "    for article in root.findall('article'): \n",
    "        title = article.find('title').text \n",
    "        file.write(title + '\\n')"
   ]
  },
  {
   "cell_type": "code",
   "execution_count": 32,
   "id": "30a5b315-4d89-4571-a332-d1663c8d53c9",
   "metadata": {},
   "outputs": [
    {
     "name": "stdout",
     "output_type": "stream",
     "text": [
      "Collecting PyPDF2\n",
      "  Downloading pypdf2-3.0.1-py3-none-any.whl.metadata (6.8 kB)\n",
      "Downloading pypdf2-3.0.1-py3-none-any.whl (232 kB)\n",
      "   ---------------------------------------- 0.0/232.6 kB ? eta -:--:--\n",
      "   ---------------------------------------- 0.0/232.6 kB ? eta -:--:--\n",
      "   - -------------------------------------- 10.2/232.6 kB ? eta -:--:--\n",
      "   --------------- ----------------------- 92.2/232.6 kB 871.5 kB/s eta 0:00:01\n",
      "   -------------------------------------- - 225.3/232.6 kB 1.5 MB/s eta 0:00:01\n",
      "   ---------------------------------------- 232.6/232.6 kB 1.4 MB/s eta 0:00:00\n",
      "Installing collected packages: PyPDF2\n",
      "Successfully installed PyPDF2-3.0.1\n",
      "Note: you may need to restart the kernel to use updated packages.\n"
     ]
    }
   ],
   "source": [
    "pip install PyPDF2 "
   ]
  },
  {
   "cell_type": "code",
   "execution_count": 34,
   "id": "f9e50e05-e1c7-426f-bdf4-e225f17b6f37",
   "metadata": {},
   "outputs": [],
   "source": [
    "import PyPDF2 "
   ]
  },
  {
   "cell_type": "code",
   "execution_count": 42,
   "id": "3592e31a-c7fd-4967-b6b5-cd39693df66f",
   "metadata": {},
   "outputs": [],
   "source": [
    "# Read the PDF file \n",
    "with open('document.pdf', 'rb') as file: \n",
    "    reader = PyPDF2.PdfReader(file) \n",
    "    text = \"\\n\".join(page.extract_text() for page in reader.pages if page.extract_text()) "
   ]
  },
  {
   "cell_type": "code",
   "execution_count": 44,
   "id": "6134803b-c8e0-448d-9768-ba2ddef86b9b",
   "metadata": {},
   "outputs": [
    {
     "name": "stdout",
     "output_type": "stream",
     "text": [
      "Extracted PDF Text:\n",
      " This is a sample PDF document.  \n",
      "AI is transforming industries and automation.  \n"
     ]
    }
   ],
   "source": [
    "# Print the extracted text \n",
    "print(\"Extracted PDF Text:\\n\", text) "
   ]
  },
  {
   "cell_type": "code",
   "execution_count": 47,
   "id": "aaea60bb-da2f-4445-a19d-bcf13437fb1e",
   "metadata": {},
   "outputs": [],
   "source": [
    "# Store the extracted text in a file \n",
    "with open('stored_pdf_text.txt', 'w', encoding='utf-8') as output: \n",
    "    output.write(text) "
   ]
  },
  {
   "cell_type": "code",
   "execution_count": 49,
   "id": "ae94b669-3937-42d7-98d6-c15b4fce835d",
   "metadata": {},
   "outputs": [],
   "source": [
    "#Exercise"
   ]
  },
  {
   "cell_type": "code",
   "execution_count": 51,
   "id": "9430e2ce-f780-4814-b35d-4ebab5eb0ee3",
   "metadata": {},
   "outputs": [],
   "source": [
    "#Question 1\n",
    "\n",
    "# Read the PDF file \n",
    "with open('Business_Proposal.pdf', 'rb') as file: \n",
    "    reader = PyPDF2.PdfReader(file) \n",
    "    text = \"\\n\".join(page.extract_text() for page in reader.pages if page.extract_text()) "
   ]
  },
  {
   "cell_type": "code",
   "execution_count": 53,
   "id": "c9d6adbc-6248-4ace-8689-b11fd6590689",
   "metadata": {},
   "outputs": [
    {
     "name": "stdout",
     "output_type": "stream",
     "text": [
      "Extracted PDF Text:\n",
      " Business Proposal  \n",
      "The Revolution is Coming  \n",
      "Leverage agile frameworks to provide a robust synopsis for high level  \n",
      "overviews. Iterative approaches to corporate strategy foster collaborative  \n",
      "thinking to further the overall value proposition. Organically grow the  \n",
      "holistic world view of disruptive innovation via workplace diversity and  \n",
      "empowerment.  \n",
      "Bring to the table win -win survival strategies to ensure proactive  \n",
      "domination. At the end of the day, going forward, a new normal that has  \n",
      "evolved from generation X is on the runway heading towards a streamlined  \n",
      "cloud solution. User generated content in real -time will have multi ple \n",
      "touchpoints for offshoring.  \n",
      "Capitalize on low hanging fruit to identify a ballpark value added activity to  \n",
      "beta test. Override the digital divide with additional clickthroughs from  \n",
      "DevOps. Nanotechnology immersion along the information highway will  \n",
      "close the loop on focusing solely on the bottom line.  \n",
      "Podcasting operational change management inside of workflows to  \n",
      "establish a framework. Taking seamless key performance indicators offline  \n",
      "to maximise the long tail. Keeping your eye on the ball while perfo rming a  \n",
      "deep dive on the start -up mentality to derive convergence on crossplatform  \n",
      "integration.  \n",
      "Collaboratively administrate empowered markets via plug -and-play \n",
      "networks. Dynamically procrastinate B2C users after installed base  \n",
      "benefits. Dramatically visua lize customer directed convergence without  \n",
      "revolutionary ROI.  \n",
      "Efficiently unleash cross -media information without cross -media value.  \n",
      "Quickly maximize timely deliverables for real -time schemas. Dramatically  \n",
      "maintain clicks -and-mortar solutions without funct ional solutio ns. \n",
      "  \n",
      "AUTHORS:  \n",
      "Amy Baker, Finance Chair, x345, abaker@ourcompany.com  \n",
      "Chris Donaldson, Accounting Dir., x621, cdonaldson@ourcompany.com  \n",
      "Erin Freeman, Sr. VP, x879, efreeman@ourcompany.com  \n"
     ]
    }
   ],
   "source": [
    "# Print the extracted text \n",
    "print(\"Extracted PDF Text:\\n\", text) "
   ]
  },
  {
   "cell_type": "code",
   "execution_count": 57,
   "id": "947a4e2b-97ec-4f03-ad03-fcd4729cef33",
   "metadata": {},
   "outputs": [],
   "source": [
    "# Store the extracted text in a file \n",
    "with open('business_proposal_all.txt', 'w', encoding='utf-8') as output: \n",
    "    output.write(text) "
   ]
  },
  {
   "cell_type": "code",
   "execution_count": 59,
   "id": "41bc23c2-8780-4743-8efe-f8d424003dd9",
   "metadata": {},
   "outputs": [],
   "source": [
    "# Read the PDF file \n",
    "with open('Business_Proposal.pdf', 'rb') as file: \n",
    "    reader = PyPDF2.PdfReader(file) \n",
    "    \n",
    "    # Extract text only from the second page (i = 1)\n",
    "    if len(reader.pages) > 1:\n",
    "        text = reader.pages[1].extract_text()\n",
    "    else:\n",
    "        text = \"\""
   ]
  },
  {
   "cell_type": "code",
   "execution_count": 62,
   "id": "86e7a936-5065-4c5d-8678-d42e3107ccaf",
   "metadata": {},
   "outputs": [
    {
     "name": "stdout",
     "output_type": "stream",
     "text": [
      "Extracted PDF Text (Page 2):\n",
      " AUTHORS:  \n",
      "Amy Baker, Finance Chair, x345, abaker@ourcompany.com  \n",
      "Chris Donaldson, Accounting Dir., x621, cdonaldson@ourcompany.com  \n",
      "Erin Freeman, Sr. VP, x879, efreeman@ourcompany.com  \n"
     ]
    }
   ],
   "source": [
    "# Print the extracted text \n",
    "print(\"Extracted PDF Text (Page 2):\\n\", text) "
   ]
  },
  {
   "cell_type": "code",
   "execution_count": 64,
   "id": "03a2614b-278f-4aed-974e-ba63d34965fa",
   "metadata": {},
   "outputs": [],
   "source": [
    "# Store the extracted text in a file \n",
    "with open('business_proposal_page_2.txt', 'w', encoding='utf-8') as output: \n",
    "    output.write(text)"
   ]
  }
 ],
 "metadata": {
  "kernelspec": {
   "display_name": "Python 3 (ipykernel)",
   "language": "python",
   "name": "python3"
  },
  "language_info": {
   "codemirror_mode": {
    "name": "ipython",
    "version": 3
   },
   "file_extension": ".py",
   "mimetype": "text/x-python",
   "name": "python",
   "nbconvert_exporter": "python",
   "pygments_lexer": "ipython3",
   "version": "3.12.4"
  }
 },
 "nbformat": 4,
 "nbformat_minor": 5
}
