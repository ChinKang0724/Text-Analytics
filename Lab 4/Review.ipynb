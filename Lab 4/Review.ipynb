{
 "cells": [
  {
   "cell_type": "code",
   "execution_count": 9,
   "id": "c82e9fc6-44e8-4bfb-bfdb-c978834e1942",
   "metadata": {},
   "outputs": [],
   "source": [
    "# Load dataset \n",
    "import pandas as pd "
   ]
  },
  {
   "cell_type": "code",
   "execution_count": 13,
   "id": "6d0f8ce8-120a-496e-bed2-245bfc8ec9ed",
   "metadata": {},
   "outputs": [],
   "source": [
    "file_path = \"Review.csv\" \n",
    "df = pd.read_csv(file_path, encoding='latin1')"
   ]
  },
  {
   "cell_type": "code",
   "execution_count": 15,
   "id": "644841d7-0e0d-4876-bd2b-4b870a3f3168",
   "metadata": {},
   "outputs": [
    {
     "name": "stdout",
     "output_type": "stream",
     "text": [
      "                                                                           Review\n",
      "0   The product arrived on time. Packaging was great, and the quality is amazing!\n",
      "1                                        THIS PRODUCT IS JUST AMAZING! I LOVE IT.\n",
      "2     I bought this phone for $799, and it has a 120Hz display. Totally worth it!\n",
      "3                         Wow!!! This product is awesome... but a bit expensive??\n",
      "4                                             The laptop works perfectly fine.   \n",
      "5    Check out the full product details here: https://example.com/product-details\n",
      "6         <div><h2>Great Purchase!</h2><p>I am happy with this product.</p></div>\n",
      "7                The battry life is excelent, but the chargin cable is too short.\n",
      "8                       I can't believe it's so good! Didn't expect such quality.\n",
      "9                   Love this product! ???? Fast delivery ??, amazing quality! ??\n",
      "10                       TBH, I wasnt expecting much, but OMG, this is awesome!!\n",
      "11                          This is the best product I have ever used in my life!\n",
      "12  The shoes were comfortable, fitting nicely, and worked perfectly for jogging.\n"
     ]
    }
   ],
   "source": [
    "# Display column content without truncation \n",
    "pd.set_option('display.max_colwidth', None)  # Set to None for unlimited width \n",
    "print(df) "
   ]
  },
  {
   "cell_type": "code",
   "execution_count": 17,
   "id": "e1192ea2-1447-4bc9-82a7-be653b4850c1",
   "metadata": {},
   "outputs": [
    {
     "name": "stdout",
     "output_type": "stream",
     "text": [
      "0     the product arrived on time. packaging was great, and the quality is amazing!\n",
      "1                                          this product is just amazing! i love it.\n",
      "2       i bought this phone for $799, and it has a 120hz display. totally worth it!\n",
      "3                           wow!!! this product is awesome... but a bit expensive??\n",
      "4                                               the laptop works perfectly fine.   \n",
      "5      check out the full product details here: https://example.com/product-details\n",
      "6           <div><h2>great purchase!</h2><p>i am happy with this product.</p></div>\n",
      "7                  the battry life is excelent, but the chargin cable is too short.\n",
      "8                         i can't believe it's so good! didn't expect such quality.\n",
      "9                     love this product! ???? fast delivery ??, amazing quality! ??\n",
      "10                         tbh, i wasnt expecting much, but omg, this is awesome!!\n",
      "11                            this is the best product i have ever used in my life!\n",
      "12    the shoes were comfortable, fitting nicely, and worked perfectly for jogging.\n",
      "Name: lowercased, dtype: object\n"
     ]
    }
   ],
   "source": [
    "# Lowercase conversion \n",
    "def convert_to_lowercase(text): \n",
    "    return text.lower() \n",
    "df[\"lowercased\"] = df[\"Review\"].apply(convert_to_lowercase) \n",
    "# Display column content without truncation \n",
    "pd.set_option('display.max_colwidth', None)  # Set to None for unlimited width \n",
    "print(df[\"lowercased\"])"
   ]
  },
  {
   "cell_type": "code",
   "execution_count": 19,
   "id": "7fb329b9-9f00-4c8a-be44-51d7604ab6b7",
   "metadata": {},
   "outputs": [
    {
     "name": "stdout",
     "output_type": "stream",
     "text": [
      "0     the product arrived on time. packaging was great, and the quality is amazing!\n",
      "1                                          this product is just amazing! i love it.\n",
      "2       i bought this phone for $799, and it has a 120hz display. totally worth it!\n",
      "3                           wow!!! this product is awesome... but a bit expensive??\n",
      "4                                               the laptop works perfectly fine.   \n",
      "5                                         check out the full product details here: \n",
      "6           <div><h2>great purchase!</h2><p>i am happy with this product.</p></div>\n",
      "7                  the battry life is excelent, but the chargin cable is too short.\n",
      "8                         i can't believe it's so good! didn't expect such quality.\n",
      "9                     love this product! ???? fast delivery ??, amazing quality! ??\n",
      "10                         tbh, i wasnt expecting much, but omg, this is awesome!!\n",
      "11                            this is the best product i have ever used in my life!\n",
      "12    the shoes were comfortable, fitting nicely, and worked perfectly for jogging.\n",
      "Name: urls_removed, dtype: object\n"
     ]
    }
   ],
   "source": [
    "# Removal of URLs \n",
    "import re \n",
    "# remove any URLs that start with \"http\" or \"www\" from the text \n",
    "def remove_urls(text): \n",
    "    return re.sub(r'http\\S+|www\\S+', '', text)  \n",
    "df[\"urls_removed\"] = df[\"lowercased\"].apply(remove_urls) \n",
    "# Display column content without truncation \n",
    "pd.set_option('display.max_colwidth', None)  # Set to None for unlimited width \n",
    "print(df[\"urls_removed\"])"
   ]
  },
  {
   "cell_type": "code",
   "execution_count": 23,
   "id": "6c93632d-b319-497a-a6e9-04c59809d58f",
   "metadata": {},
   "outputs": [
    {
     "name": "stdout",
     "output_type": "stream",
     "text": [
      "0     the product arrived on time. packaging was great, and the quality is amazing!\n",
      "1                                          this product is just amazing! i love it.\n",
      "2       i bought this phone for $799, and it has a 120hz display. totally worth it!\n",
      "3                           wow!!! this product is awesome... but a bit expensive??\n",
      "4                                               the laptop works perfectly fine.   \n",
      "5                                         check out the full product details here: \n",
      "6                                      great purchase!i am happy with this product.\n",
      "7                  the battry life is excelent, but the chargin cable is too short.\n",
      "8                         i can't believe it's so good! didn't expect such quality.\n",
      "9                     love this product! ???? fast delivery ??, amazing quality! ??\n",
      "10                         tbh, i wasnt expecting much, but omg, this is awesome!!\n",
      "11                            this is the best product i have ever used in my life!\n",
      "12    the shoes were comfortable, fitting nicely, and worked perfectly for jogging.\n",
      "Name: html_removed, dtype: object\n"
     ]
    }
   ],
   "source": [
    "# Removal of HTML tags \n",
    "from bs4 import BeautifulSoup \n",
    "# extracts only the text, removing all HTML tags \n",
    "def remove_html_tags(text): \n",
    "    return BeautifulSoup(text, \"html.parser\").get_text()\n",
    "df[\"html_removed\"] = df[\"urls_removed\"].apply(remove_html_tags) \n",
    "# Display column content without truncation \n",
    "pd.set_option('display.max_colwidth', None)  # Set to None for unlimited width \n",
    "print(df[\"html_removed\"])"
   ]
  },
  {
   "cell_type": "code",
   "execution_count": 28,
   "id": "7c194e1d-64e9-4159-a4a8-20c146c469b8",
   "metadata": {},
   "outputs": [
    {
     "name": "stdout",
     "output_type": "stream",
     "text": [
      "Collecting emoji\n",
      "  Downloading emoji-2.14.1-py3-none-any.whl.metadata (5.7 kB)\n",
      "Downloading emoji-2.14.1-py3-none-any.whl (590 kB)\n",
      "   ---------------------------------------- 0.0/590.6 kB ? eta -:--:--\n",
      "   ---------------------------------------- 0.0/590.6 kB ? eta -:--:--\n",
      "    --------------------------------------- 10.2/590.6 kB ? eta -:--:--\n",
      "   - ------------------------------------- 20.5/590.6 kB 217.9 kB/s eta 0:00:03\n",
      "   - ------------------------------------- 20.5/590.6 kB 217.9 kB/s eta 0:00:03\n",
      "   -- ------------------------------------ 41.0/590.6 kB 281.8 kB/s eta 0:00:02\n",
      "   ---- ---------------------------------- 71.7/590.6 kB 435.7 kB/s eta 0:00:02\n",
      "   --------------------- ------------------ 317.4/590.6 kB 1.6 MB/s eta 0:00:01\n",
      "   ---------------------------------------  583.7/590.6 kB 2.5 MB/s eta 0:00:01\n",
      "   ---------------------------------------- 590.6/590.6 kB 2.3 MB/s eta 0:00:00\n",
      "Installing collected packages: emoji\n",
      "Successfully installed emoji-2.14.1\n",
      "Note: you may need to restart the kernel to use updated packages.\n"
     ]
    }
   ],
   "source": [
    "pip install emoji"
   ]
  },
  {
   "cell_type": "code",
   "execution_count": 29,
   "id": "35eb84ed-9826-40fe-8567-51da073d7a70",
   "metadata": {},
   "outputs": [
    {
     "name": "stdout",
     "output_type": "stream",
     "text": [
      "0     the product arrived on time. packaging was great, and the quality is amazing!\n",
      "1                                          this product is just amazing! i love it.\n",
      "2       i bought this phone for $799, and it has a 120hz display. totally worth it!\n",
      "3                           wow!!! this product is awesome... but a bit expensive??\n",
      "4                                               the laptop works perfectly fine.   \n",
      "5                                         check out the full product details here: \n",
      "6                                      great purchase!i am happy with this product.\n",
      "7                  the battry life is excelent, but the chargin cable is too short.\n",
      "8                         i can't believe it's so good! didn't expect such quality.\n",
      "9                     love this product! ???? fast delivery ??, amazing quality! ??\n",
      "10                         tbh, i wasnt expecting much, but omg, this is awesome!!\n",
      "11                            this is the best product i have ever used in my life!\n",
      "12    the shoes were comfortable, fitting nicely, and worked perfectly for jogging.\n",
      "Name: emojis_removed, dtype: object\n"
     ]
    }
   ],
   "source": [
    "# Removal of emojis (if any) \n",
    "import emoji \n",
    "# replace emoji with '' \n",
    "def remove_emojis(text): \n",
    "    return emoji.replace_emoji(text, replace='') \n",
    "df[\"emojis_removed\"] = df[\"html_removed\"].apply(remove_emojis) \n",
    "# Display column content without truncation \n",
    "pd.set_option('display.max_colwidth', None)  # Set to None for unlimited width \n",
    "print(df[\"emojis_removed\"])"
   ]
  },
  {
   "cell_type": "code",
   "execution_count": 32,
   "id": "33b65cb4-48a2-4068-aceb-2f9797beb844",
   "metadata": {},
   "outputs": [
    {
     "name": "stdout",
     "output_type": "stream",
     "text": [
      "0     the product arrived on time. packaging was great, and the quality is amazing!\n",
      "1                                          this product is just amazing! i love it.\n",
      "2       i bought this phone for $799, and it has a 120hz display. totally worth it!\n",
      "3                           wow!!! this product is awesome... but a bit expensive??\n",
      "4                                               the laptop works perfectly fine.   \n",
      "5                                         check out the full product details here: \n",
      "6                                      great purchase!i am happy with this product.\n",
      "7                  the battry life is excelent, but the chargin cable is too short.\n",
      "8                         i can't believe it's so good! didn't expect such quality.\n",
      "9                     love this product! ???? fast delivery ??, amazing quality! ??\n",
      "10          to be honest, i wasnt expecting much, but oh my god, this is awesome!!\n",
      "11                            this is the best product i have ever used in my life!\n",
      "12    the shoes were comfortable, fitting nicely, and worked perfectly for jogging.\n",
      "Name: slangs_replaced, dtype: object\n"
     ]
    }
   ],
   "source": [
    "# Replace internet slang/chat words \n",
    "# Dictionary of slang words and their replacements \n",
    "slang_dict = { \n",
    "    \"tbh\": \"to be honest\", \n",
    "    \"omg\": \"oh my god\", \n",
    "    \"lol\": \"laugh out loud\", \n",
    "    \"idk\": \"I don't know\", \n",
    "    \"brb\": \"be right back\", \n",
    "    \"btw\": \"by the way\", \n",
    "    \"imo\": \"in my opinion\", \n",
    "    \"smh\": \"shaking my head\", \n",
    "    \"fyi\": \"for your information\", \n",
    "    \"np\": \"no problem\",\n",
    "    \"ikr\": \"I know right\", \n",
    "    \"asap\": \"as soon as possible\", \n",
    "    \"bff\": \"best friend forever\", \n",
    "    \"gg\": \"good game\", \n",
    "    \"hmu\": \"hit me up\", \n",
    "    \"rofl\": \"rolling on the floor laughing\" \n",
    "} \n",
    " \n",
    "# Function to replace slang words \n",
    "def replace_slang(text): \n",
    "    # Create a list of escaped slang words \n",
    "    escaped_slang_words = []  # Empty list to store escaped slang words \n",
    " \n",
    "    for word in slang_dict.keys(): \n",
    "        escaped_word = re.escape(word)  # Ensure special characters are escaped \n",
    "        escaped_slang_words.append(escaped_word)  # Add to list \n",
    " \n",
    "    # Join the words using '|' \n",
    "    slang_pattern = r'\\b(' + '|'.join(escaped_slang_words) + r')\\b' \n",
    " \n",
    "    # Define a replacement function \n",
    "    def replace_match(match): \n",
    "        slang_word = match.group(0)  # Extract matched slang word \n",
    "        return slang_dict[slang_word.lower()]  # Replace with full form \n",
    " \n",
    "    # Use regex to replace slang words with full forms \n",
    "    replaced_text = re.sub(slang_pattern, replace_match, text, flags=re.IGNORECASE) \n",
    " \n",
    "    return replaced_text \n",
    " \n",
    " \n",
    "# Apply the function to the column \n",
    "df[\"slangs_replaced\"] = df[\"emojis_removed\"].apply(replace_slang) \n",
    " \n",
    "# Display column content without truncation \n",
    "pd.set_option('display.max_colwidth', None)  # Set to None for unlimited width \n",
    "print(df[\"slangs_replaced\"]) \n"
   ]
  },
  {
   "cell_type": "code",
   "execution_count": 34,
   "id": "fc9adc40-e676-4555-91af-eb7964abcae1",
   "metadata": {},
   "outputs": [
    {
     "name": "stdout",
     "output_type": "stream",
     "text": [
      "0     the product arrived on time. packaging was great, and the quality is amazing!\n",
      "1                                          this product is just amazing! i love it.\n",
      "2       i bought this phone for $799, and it has a 120hz display. totally worth it!\n",
      "3                           wow!!! this product is awesome... but a bit expensive??\n",
      "4                                               the laptop works perfectly fine.   \n",
      "5                                         check out the full product details here: \n",
      "6                                      great purchase!i am happy with this product.\n",
      "7                  the battry life is excelent, but the chargin cable is too short.\n",
      "8                      i cannot believe it is so good! did not expect such quality.\n",
      "9                     love this product! ???? fast delivery ??, amazing quality! ??\n",
      "10          to be honest, i wasnt expecting much, but oh my god, this is awesome!!\n",
      "11                            this is the best product i have ever used in my life!\n",
      "12    the shoes were comfortable, fitting nicely, and worked perfectly for jogging.\n",
      "Name: contractions_replaced, dtype: object\n"
     ]
    }
   ],
   "source": [
    "# Replace Contractions \n",
    "contractions_dict = { \n",
    "    \"wasn't\": \"was not\", \n",
    "    \"isn't\": \"is not\", \n",
    "    \"aren't\": \"are not\", \n",
    "    \"weren't\": \"were not\", \n",
    "    \"doesn't\": \"does not\", \n",
    "    \"don't\": \"do not\", \n",
    "    \"didn't\": \"did not\", \n",
    "    \"can't\": \"cannot\", \n",
    "    \"couldn't\": \"could not\", \n",
    "    \"shouldn't\": \"should not\", \n",
    "    \"wouldn't\": \"would not\", \n",
    "    \"won't\": \"will not\", \n",
    "    \"haven't\": \"have not\", \n",
    "    \"hasn't\": \"has not\", \n",
    "    \"hadn't\": \"had not\", \n",
    "    \"i'm\": \"i am\", \n",
    "    \"you're\": \"you are\", \n",
    "    \"he's\": \"he is\", \n",
    "    \"she's\": \"she is\", \n",
    "    \"it's\": \"it is\", \n",
    "    \"we're\": \"we are\", \n",
    "    \"they're\": \"they are\", \n",
    "    \"i've\": \"i have\", \n",
    "    \"you've\": \"you have\", \n",
    "    \"we've\": \"we have\", \n",
    "    \"they've\": \"they have\", \n",
    "    \"i'd\": \"i would\", \n",
    "    \"you'd\": \"you would\", \n",
    "    \"he'd\": \"he would\", \n",
    "    \"she'd\": \"she would\", \n",
    "    \"we'd\": \"we would\", \n",
    "    \"they'd\": \"they would\", \n",
    "    \"i'll\": \"i will\",\n",
    "    \"you'll\": \"you will\", \n",
    "    \"he'll\": \"he will\", \n",
    "    \"she'll\": \"she will\", \n",
    "    \"we'll\": \"we will\", \n",
    "    \"they'll\": \"they will\", \n",
    "    \"let's\": \"let us\", \n",
    "    \"that's\": \"that is\", \n",
    "    \"who's\": \"who is\", \n",
    "    \"what's\": \"what is\", \n",
    "    \"where's\": \"where is\", \n",
    "    \"when's\": \"when is\", \n",
    "    \"why's\": \"why is\" \n",
    "} \n",
    "# Build the regex pattern for contractions \n",
    "escaped_contractions = []  # List to store escaped contractions \n",
    "for contraction in contractions_dict.keys(): \n",
    "    escaped_contraction = re.escape(contraction)  # Escape special characters (e.g., apostrophes) \n",
    "    escaped_contractions.append(escaped_contraction)  # Add to list \n",
    "# Join the escaped contractions with '|' \n",
    "joined_contractions = \"|\".join(escaped_contractions) \n",
    "# Create a regex pattern with word boundaries (\\b) \n",
    "contractions_pattern = r'\\b(' + joined_contractions + r')\\b' \n",
    "# Compile the regex \n",
    "compiled_pattern = re.compile(contractions_pattern, flags=re.IGNORECASE) \n",
    "# Define a function to replace contractions \n",
    "def replace_contractions(text): \n",
    "    # Function to handle each match found \n",
    "    def replace_match(match): \n",
    "        matched_word = match.group(0)  # Extract matched contraction \n",
    "        lower_matched_word = matched_word.lower()  # Convert to lowercase\n",
    "        expanded_form = contractions_dict[lower_matched_word]  # Get full form from dictionary \n",
    "        return expanded_form  # Return the expanded form \n",
    "        \n",
    "    # Apply regex substitution \n",
    "    expanded_text = compiled_pattern.sub(replace_match, text) \n",
    "    return expanded_text  # Return modified text \n",
    "    \n",
    "# Apply the function to a DataFrame column \n",
    "df[\"contractions_replaced\"] = df[\"slangs_replaced\"].apply(replace_contractions) \n",
    "# Display column content without truncation \n",
    "pd.set_option('display.max_colwidth', None)  # Set to None for unlimited width \n",
    "print(df[\"contractions_replaced\"])"
   ]
  },
  {
   "cell_type": "code",
   "execution_count": 36,
   "id": "7e15c9f4-8c2a-4170-9e8f-97cdfb3f4efd",
   "metadata": {},
   "outputs": [
    {
     "name": "stdout",
     "output_type": "stream",
     "text": [
      "0     the product arrived on time packaging was great and the quality is amazing\n",
      "1                                         this product is just amazing i love it\n",
      "2        i bought this phone for 799 and it has a 120hz display totally worth it\n",
      "3                                wow this product is awesome but a bit expensive\n",
      "4                                             the laptop works perfectly fine   \n",
      "5                                       check out the full product details here \n",
      "6                                     great purchasei am happy with this product\n",
      "7                 the battry life is excelent but the chargin cable is too short\n",
      "8                     i cannot believe it is so good did not expect such quality\n",
      "9                             love this product  fast delivery  amazing quality \n",
      "10            to be honest i wasnt expecting much but oh my god this is awesome\n",
      "11                          this is the best product i have ever used in my life\n",
      "12    the shoes were comfortable fitting nicely and worked perfectly for jogging\n",
      "Name: punctuations_removed, dtype: object\n"
     ]
    }
   ],
   "source": [
    "# Remove punctuations and special characters \n",
    "import string \n",
    "# Function to remove punctuation \n",
    "def remove_punctuation(text): \n",
    "    return text.translate(str.maketrans('', '', string.punctuation)) \n",
    "# Apply the function to the column \n",
    "df[\"punctuations_removed\"] = df[\"contractions_replaced\"].apply(remove_punctuation) \n",
    "# Display column content without truncation \n",
    "pd.set_option('display.max_colwidth', None)  # Set to None for unlimited width \n",
    "print(df[\"punctuations_removed\"])"
   ]
  },
  {
   "cell_type": "code",
   "execution_count": 38,
   "id": "20d1e76e-57c5-48b1-b1d6-a6e776e42959",
   "metadata": {},
   "outputs": [
    {
     "name": "stdout",
     "output_type": "stream",
     "text": [
      "0     the product arrived on time packaging was great and the quality is amazing\n",
      "1                                         this product is just amazing i love it\n",
      "2              i bought this phone for  and it has a hz display totally worth it\n",
      "3                                wow this product is awesome but a bit expensive\n",
      "4                                             the laptop works perfectly fine   \n",
      "5                                       check out the full product details here \n",
      "6                                     great purchasei am happy with this product\n",
      "7                 the battry life is excelent but the chargin cable is too short\n",
      "8                     i cannot believe it is so good did not expect such quality\n",
      "9                             love this product  fast delivery  amazing quality \n",
      "10            to be honest i wasnt expecting much but oh my god this is awesome\n",
      "11                          this is the best product i have ever used in my life\n",
      "12    the shoes were comfortable fitting nicely and worked perfectly for jogging\n",
      "Name: numbers_removed, dtype: object\n"
     ]
    }
   ],
   "source": [
    "# Remove numbers \n",
    "def remove_numbers(text): \n",
    "    return re.sub(r'\\d+', '', text)  # Removes all numeric characters \n",
    "# Apply the function to the column \n",
    "df[\"numbers_removed\"] = df[\"punctuations_removed\"].apply(remove_numbers) \n",
    "# Display column content without truncation \n",
    "pd.set_option('display.max_colwidth', None)  # Set to None for unlimited width \n",
    "print(df[\"numbers_removed\"])"
   ]
  },
  {
   "cell_type": "code",
   "execution_count": null,
   "id": "b69a2914-94a1-4244-813a-2bb384254ad7",
   "metadata": {},
   "outputs": [],
   "source": []
  }
 ],
 "metadata": {
  "kernelspec": {
   "display_name": "Python 3 (ipykernel)",
   "language": "python",
   "name": "python3"
  },
  "language_info": {
   "codemirror_mode": {
    "name": "ipython",
    "version": 3
   },
   "file_extension": ".py",
   "mimetype": "text/x-python",
   "name": "python",
   "nbconvert_exporter": "python",
   "pygments_lexer": "ipython3",
   "version": "3.12.4"
  }
 },
 "nbformat": 4,
 "nbformat_minor": 5
}
