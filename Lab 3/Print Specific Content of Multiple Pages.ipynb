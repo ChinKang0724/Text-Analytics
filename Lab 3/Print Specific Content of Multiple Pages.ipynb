{
 "cells": [
  {
   "cell_type": "code",
   "execution_count": 1,
   "id": "158d46c2-1949-430b-a147-bb5d8034a3b6",
   "metadata": {},
   "outputs": [],
   "source": [
    "import requests\n",
    "from bs4 import BeautifulSoup\n",
    "import csv"
   ]
  },
  {
   "cell_type": "code",
   "execution_count": 7,
   "id": "aba6a423-0bc9-4657-8558-0bbf02a6d9b7",
   "metadata": {},
   "outputs": [],
   "source": [
    "# Function to scrape quotes from a page\n",
    "def scrape_page(soup, quotes):\n",
    " for quote in soup.find_all('div', class_='quote'):\n",
    "     text = quote.find('span', class_='text').text\n",
    "     author = quote.find('small', class_='author').text\n",
    "     tags = ', '.join(tag.text for tag in quote.find_all('a', class_='tag'))\n",
    "     quotes.append({'Text': text, 'Author': author, 'Tags': tags})"
   ]
  },
  {
   "cell_type": "code",
   "execution_count": 9,
   "id": "5ef730ac-1694-402c-b4b1-81bfb09c9d94",
   "metadata": {},
   "outputs": [],
   "source": [
    "# Base URL and headers\n",
    "base_url = 'https://quotes.toscrape.com'\n",
    "headers = {'User-Agent': 'Mozilla/5.0'}"
   ]
  },
  {
   "cell_type": "code",
   "execution_count": 11,
   "id": "e53c580d-21d3-4d90-b78a-ed30989132da",
   "metadata": {},
   "outputs": [],
   "source": [
    "# List to store quotes\n",
    "quotes = []"
   ]
  },
  {
   "cell_type": "code",
   "execution_count": 13,
   "id": "ce5bd35d-645b-48cd-8f41-97ccf48cac79",
   "metadata": {},
   "outputs": [],
   "source": [
    "# Function to scrape quotes from multiple pages\n",
    "def scrape_all_pages(url):\n",
    " while url:\n",
    "     response = requests.get(url, headers=headers)\n",
    "     soup = BeautifulSoup(response.text, 'html.parser')\n",
    "     scrape_page(soup, quotes)\n",
    "     next_page = soup.find('li', class_='next')\n",
    "     url = base_url + next_page.find('a')['href'] if next_page else None"
   ]
  },
  {
   "cell_type": "code",
   "execution_count": 15,
   "id": "87b2604b-ef70-4932-94ca-cbb333c5f113",
   "metadata": {},
   "outputs": [],
   "source": [
    "# Scrape quotes from all pages\n",
    "scrape_all_pages(base_url)"
   ]
  },
  {
   "cell_type": "code",
   "execution_count": 16,
   "id": "551d5838-2167-4e8d-988f-bf40249190a7",
   "metadata": {},
   "outputs": [],
   "source": [
    "# Save quotes to CSV file\n",
    "with open('quotes2.csv', 'w', newline='', encoding='utf-8') as csvfile:\n",
    " writer = csv.DictWriter(csvfile, fieldnames=['Text', 'Author', 'Tags'])\n",
    " writer.writeheader()\n",
    " writer.writerows(quotes)"
   ]
  },
  {
   "cell_type": "code",
   "execution_count": null,
   "id": "7917b508-1f68-4cec-90f3-677164fe0fdd",
   "metadata": {},
   "outputs": [],
   "source": []
  }
 ],
 "metadata": {
  "kernelspec": {
   "display_name": "Python 3 (ipykernel)",
   "language": "python",
   "name": "python3"
  },
  "language_info": {
   "codemirror_mode": {
    "name": "ipython",
    "version": 3
   },
   "file_extension": ".py",
   "mimetype": "text/x-python",
   "name": "python",
   "nbconvert_exporter": "python",
   "pygments_lexer": "ipython3",
   "version": "3.12.4"
  }
 },
 "nbformat": 4,
 "nbformat_minor": 5
}
