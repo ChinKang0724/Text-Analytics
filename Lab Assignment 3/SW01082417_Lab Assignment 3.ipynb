{
 "cells": [
  {
   "cell_type": "code",
   "execution_count": 3,
   "id": "7d0a14fe-31e7-461c-9562-9040d76e5241",
   "metadata": {},
   "outputs": [],
   "source": [
    "#Wai Chin Kang\n",
    "#SW01082417"
   ]
  },
  {
   "cell_type": "code",
   "execution_count": 1,
   "id": "2ff71137-c565-4249-a4bd-1255bbe619fe",
   "metadata": {},
   "outputs": [
    {
     "data": {
      "text/plain": [
       "(   Unnamed: 0                                               text  target  \\\n",
       " 0           0  I was wondering if anyone out there could enli...       7   \n",
       " 1          17  I recently posted an article asking what kind ...       7   \n",
       " 2          29  \\nIt depends on your priorities.  A lot of peo...       7   \n",
       " 3          56  an excellent automatic can be found in the sub...       7   \n",
       " 4          64  : Ford and his automobile.  I need information...       7   \n",
       " \n",
       "        title                        date  \n",
       " 0  rec.autos  2022-08-02 13:48:37.251043  \n",
       " 1  rec.autos  2022-08-02 13:48:37.251043  \n",
       " 2  rec.autos  2022-08-02 13:48:37.251043  \n",
       " 3  rec.autos  2022-08-02 13:48:37.251043  \n",
       " 4  rec.autos  2022-08-02 13:48:37.251043  ,\n",
       " Index(['Unnamed: 0', 'text', 'target', 'title', 'date'], dtype='object'))"
      ]
     },
     "execution_count": 1,
     "metadata": {},
     "output_type": "execute_result"
    }
   ],
   "source": [
    "import pandas as pd\n",
    "\n",
    "# Load the uploaded CSV file\n",
    "file_path = \"news_dataset.csv\"\n",
    "df = pd.read_csv(file_path)\n",
    "\n",
    "# Display the first few rows and the column names to verify the structure\n",
    "df.head(), df.columns"
   ]
  },
  {
   "cell_type": "code",
   "execution_count": 8,
   "id": "2959d0f0-bb92-41c9-b886-224d84f067f7",
   "metadata": {},
   "outputs": [
    {
     "name": "stderr",
     "output_type": "stream",
     "text": [
      "[nltk_data] Downloading package punkt to\n",
      "[nltk_data]     C:\\Users\\User\\AppData\\Roaming\\nltk_data...\n",
      "[nltk_data]   Package punkt is already up-to-date!\n",
      "[nltk_data] Downloading package stopwords to\n",
      "[nltk_data]     C:\\Users\\User\\AppData\\Roaming\\nltk_data...\n",
      "[nltk_data]   Package stopwords is already up-to-date!\n",
      "[nltk_data] Downloading package wordnet to\n",
      "[nltk_data]     C:\\Users\\User\\AppData\\Roaming\\nltk_data...\n",
      "[nltk_data]   Package wordnet is already up-to-date!\n"
     ]
    },
    {
     "data": {
      "text/plain": [
       "0    [wonder, anyon, could, enlighten, car, saw, da...\n",
       "1    [recent, post, articl, ask, kind, rate, singl,...\n",
       "2    [depend, prioriti, lot, peopl, put, higher, pr...\n",
       "3    [excel, automat, found, subaru, legaci, switch...\n",
       "4    [ford, automobil, need, inform, whether, ford,...\n",
       "Name: tokens, dtype: object"
      ]
     },
     "execution_count": 8,
     "metadata": {},
     "output_type": "execute_result"
    }
   ],
   "source": [
    "import nltk\n",
    "from nltk.corpus import stopwords\n",
    "from nltk.stem import WordNetLemmatizer, PorterStemmer\n",
    "from gensim.utils import simple_preprocess\n",
    "import re\n",
    "\n",
    "# Manually append path\n",
    "nltk.data.path.append(r'C:\\Users\\User\\AppData\\Roaming\\nltk_data')\n",
    "\n",
    "# Download (if not yet done)\n",
    "nltk.download('punkt')\n",
    "nltk.download('stopwords')\n",
    "nltk.download('wordnet')\n",
    "\n",
    "# Init\n",
    "stop_words = set(stopwords.words('english'))\n",
    "lemmatizer = WordNetLemmatizer()\n",
    "stemmer = PorterStemmer()\n",
    "\n",
    "# Clean text\n",
    "def preprocess(text):\n",
    "    tokens = simple_preprocess(str(text), deacc=True)  # deacc=True removes punctuations\n",
    "    tokens = [lemmatizer.lemmatize(stemmer.stem(word)) for word in tokens if word not in stop_words and len(word) > 2]\n",
    "    return tokens\n",
    "\n",
    "# Apply\n",
    "df = df[['text']].dropna()\n",
    "df['text'] = df['text'].astype(str)\n",
    "df['tokens'] = df['text'].apply(preprocess)\n",
    "df['tokens'].head()"
   ]
  },
  {
   "cell_type": "code",
   "execution_count": 18,
   "id": "7445260c-0ef7-45b3-901d-b98e750e0829",
   "metadata": {},
   "outputs": [
    {
     "name": "stdout",
     "output_type": "stream",
     "text": [
      "Coherence Score: 0.4510210271635\n"
     ]
    }
   ],
   "source": [
    "from gensim.corpora import Dictionary\n",
    "from gensim import models\n",
    "from gensim.models import CoherenceModel\n",
    "\n",
    "df_small = df.head(1000)\n",
    "\n",
    "# Create Dictionary and Corpus from your preprocessed data\n",
    "id2word_small = Dictionary(df_small['tokens'])\n",
    "corpus_small = [id2word_small.doc2bow(text) for text in df_small['tokens']]\n",
    "\n",
    "# Train LDA model\n",
    "lda_model_small = models.LdaModel(corpus=corpus_small,\n",
    "                                  id2word=id2word_small,\n",
    "                                  num_topics=4,\n",
    "                                  random_state=42,\n",
    "                                  update_every=1,\n",
    "                                  chunksize=100,\n",
    "                                  passes=10,\n",
    "                                  alpha='auto',\n",
    "                                  per_word_topics=True)\n",
    "# Display the topics\n",
    "lda_topics = lda_model.print_topics(num_words=10)\n",
    "lda_topics\n",
    "\n",
    "coherence_model_lda = CoherenceModel(model=lda_model_small,\n",
    "                                     texts=df_small['tokens'],\n",
    "                                     dictionary=id2word_small,\n",
    "                                     coherence='c_v')\n",
    "\n",
    "coherence_score = coherence_model_lda.get_coherence()\n",
    "print(f\"Coherence Score: {coherence_score}\")"
   ]
  },
  {
   "cell_type": "code",
   "execution_count": 20,
   "id": "fd6608ad-d572-4fb6-bb19-dd3ce039d050",
   "metadata": {},
   "outputs": [],
   "source": [
    "#Interpretation: The Coherence Score reflects how semantically interpretable the topics are. \n",
    "#Scores closer to 1.0 suggest clear and meaningful topic separation. \n",
    "#For this model, a coherence score above 0.4 is typically acceptable, while 0.5–0.6 indicates good semantic consistency. \n",
    "#This helps determine if the 4 topics discovered are reasonably coherent based on the keywords."
   ]
  }
 ],
 "metadata": {
  "kernelspec": {
   "display_name": "Python 3 (ipykernel)",
   "language": "python",
   "name": "python3"
  },
  "language_info": {
   "codemirror_mode": {
    "name": "ipython",
    "version": 3
   },
   "file_extension": ".py",
   "mimetype": "text/x-python",
   "name": "python",
   "nbconvert_exporter": "python",
   "pygments_lexer": "ipython3",
   "version": "3.12.7"
  }
 },
 "nbformat": 4,
 "nbformat_minor": 5
}
