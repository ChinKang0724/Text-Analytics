{
 "cells": [
  {
   "cell_type": "code",
   "execution_count": 1,
   "id": "ff6a5c21-6746-4dd3-bf7b-fc892e5495b6",
   "metadata": {},
   "outputs": [],
   "source": [
    "import pandas as pd \n",
    "import math # use for log function \n",
    "from collections import Counter"
   ]
  },
  {
   "cell_type": "code",
   "execution_count": 3,
   "id": "ec829ecb-5bc0-4232-8b52-1bb10df39fff",
   "metadata": {},
   "outputs": [],
   "source": [
    "file_path = \"Processed_Reviews.csv\" \n",
    "df = pd.read_csv(file_path) "
   ]
  },
  {
   "cell_type": "code",
   "execution_count": 5,
   "id": "a0956296-c99e-48aa-b96f-31afa07c4d07",
   "metadata": {},
   "outputs": [],
   "source": [
    "tokenized_reviews = df['tokenized'].dropna().apply(eval)"
   ]
  },
  {
   "cell_type": "code",
   "execution_count": 8,
   "id": "a657310a-d343-44a2-ab20-ab28b7fb90f5",
   "metadata": {},
   "outputs": [],
   "source": [
    "def compute_tf(document): \n",
    "    word_count = Counter(document) \n",
    "    tf = {word: count / len(document) for word, count in word_count.items()} \n",
    "    return tf"
   ]
  },
  {
   "cell_type": "code",
   "execution_count": 10,
   "id": "bdf3bce3-3695-4926-8063-1b7a46356457",
   "metadata": {},
   "outputs": [],
   "source": [
    "def compute_idf(documents): \n",
    "    N = len(documents)  # Total number of documents \n",
    "    idf = {} \n",
    "    all_words = set(word for doc in documents for word in doc)  # Unique words \n",
    "    for word in all_words: \n",
    "        count = sum(1 for doc in documents if word in doc) \n",
    "        idf[word] = math.log(N / count) \n",
    "    return idf"
   ]
  },
  {
   "cell_type": "code",
   "execution_count": null,
   "id": "9e7d3a4d-f11a-4b5f-b9bb-f3f1d7449094",
   "metadata": {},
   "outputs": [],
   "source": [
    "def compute_tfidf(document, idf): \n",
    "tfidf = {} \n",
    "tf = compute_tf(document)  # Get TF values for the document \n",
    "for word, tf_value in tf.items(): \n",
    "tfidf[word] = tf_value * idf[word]  # Multiply TF and IDF \n",
    "return tfidf"
   ]
  }
 ],
 "metadata": {
  "kernelspec": {
   "display_name": "Python 3 (ipykernel)",
   "language": "python",
   "name": "python3"
  },
  "language_info": {
   "codemirror_mode": {
    "name": "ipython",
    "version": 3
   },
   "file_extension": ".py",
   "mimetype": "text/x-python",
   "name": "python",
   "nbconvert_exporter": "python",
   "pygments_lexer": "ipython3",
   "version": "3.12.4"
  }
 },
 "nbformat": 4,
 "nbformat_minor": 5
}
